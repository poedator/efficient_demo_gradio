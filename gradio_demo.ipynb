{
 "cells": [
  {
   "cell_type": "markdown",
   "id": "8283930b-f5a0-4c56-8eeb-417b5fe7f5d6",
   "metadata": {
    "tags": []
   },
   "source": [
    "# Efficient DL: Gradio framework\n",
    "\n",
    "![gradio_logo](gradio_logo.png)\n",
    "## What is Gradio:\n",
    "Gradio is the fastest way to demo your machine learning model with a friendly web interface so that anyone can use it, anywhere!\n",
    "## paper\n",
    "[Gradio: Hassle-Free Sharing and Testing of ML Models in the Wild. 2019](https://arxiv.org/abs/1906.02569)\n",
    "## links:\n",
    "- Main site: https://gradio.app/\n",
    "- github: https://github.com/gradio-app/gradio  14.5 K Stars\n"
   ]
  },
  {
   "cell_type": "code",
   "execution_count": null,
   "id": "72f4a3bd-1cf3-409e-a8a7-25e1a4c33517",
   "metadata": {},
   "outputs": [],
   "source": []
  },
  {
   "cell_type": "code",
   "execution_count": 1,
   "id": "8b82fbc4-e022-40be-96df-1b3b682cc1cb",
   "metadata": {
    "tags": []
   },
   "outputs": [
    {
     "name": "stdout",
     "output_type": "stream",
     "text": [
      "env: CUDA_VISIBLE_DEVICES=4\n",
      "env: GRADIO_ANALYTICS_ENABLED=false\n"
     ]
    }
   ],
   "source": [
    "%env CUDA_VISIBLE_DEVICES=4\n",
    "%env GRADIO_ANALYTICS_ENABLED=false\n",
    "\n",
    "import gradio as gr\n",
    "\n",
    "import numpy as np\n",
    "import torch\n",
    "device = torch.device('cuda:0') if torch.cuda.is_available() else 'cpu'"
   ]
  },
  {
   "cell_type": "markdown",
   "id": "89823ac7-fe2c-4097-82df-21676f085cd5",
   "metadata": {},
   "source": [
    "# Hello world demo"
   ]
  },
  {
   "cell_type": "code",
   "execution_count": 2,
   "id": "b9b0def9-2420-4a9d-8103-6a42f02c7dd7",
   "metadata": {},
   "outputs": [
    {
     "name": "stdout",
     "output_type": "stream",
     "text": [
      "Running on local URL:  http://127.0.0.1:7862\n",
      "\n",
      "To create a public link, set `share=True` in `launch()`.\n"
     ]
    },
    {
     "data": {
      "text/html": [
       "<div><iframe src=\"http://127.0.0.1:7862/\" width=\"100%\" height=\"500\" allow=\"autoplay; camera; microphone; clipboard-read; clipboard-write;\" frameborder=\"0\" allowfullscreen></iframe></div>"
      ],
      "text/plain": [
       "<IPython.core.display.HTML object>"
      ]
     },
     "metadata": {},
     "output_type": "display_data"
    },
    {
     "data": {
      "text/plain": []
     },
     "execution_count": 2,
     "metadata": {},
     "output_type": "execute_result"
    }
   ],
   "source": [
    "def greet(name):\n",
    "    return \"Hello \" + name + \"!\"\n",
    "\n",
    "demo = gr.Interface(fn=greet, inputs=\"text\", outputs=\"text\")\n",
    "\n",
    "demo.launch(debug=False, share=False) "
   ]
  },
  {
   "cell_type": "code",
   "execution_count": 3,
   "id": "d19da495-7a84-4a05-8303-26695b77d5b6",
   "metadata": {
    "tags": []
   },
   "outputs": [
    {
     "name": "stdout",
     "output_type": "stream",
     "text": [
      "Closing server running on port: 7862\n"
     ]
    }
   ],
   "source": [
    "demo.close()"
   ]
  },
  {
   "cell_type": "markdown",
   "id": "dcefb77d-a347-437a-984f-7d9654293efe",
   "metadata": {},
   "source": [
    "# DEMO NER"
   ]
  },
  {
   "cell_type": "code",
   "execution_count": 4,
   "id": "c1d9d1c4-138d-402d-8065-c9c6d542425b",
   "metadata": {
    "tags": []
   },
   "outputs": [
    {
     "name": "stdout",
     "output_type": "stream",
     "text": [
      "Running on local URL:  http://127.0.0.1:7862\n",
      "\n",
      "To create a public link, set `share=True` in `launch()`.\n"
     ]
    },
    {
     "data": {
      "text/html": [
       "<div><iframe src=\"http://127.0.0.1:7862/\" width=\"100%\" height=\"500\" allow=\"autoplay; camera; microphone; clipboard-read; clipboard-write;\" frameborder=\"0\" allowfullscreen></iframe></div>"
      ],
      "text/plain": [
       "<IPython.core.display.HTML object>"
      ]
     },
     "metadata": {},
     "output_type": "display_data"
    },
    {
     "data": {
      "text/plain": []
     },
     "execution_count": 4,
     "metadata": {},
     "output_type": "execute_result"
    }
   ],
   "source": [
    "from transformers import pipeline\n",
    "\n",
    "import gradio as gr\n",
    "\n",
    "ner_pipeline = pipeline(task=\"ner\", model='dbmdz/bert-large-cased-finetuned-conll03-english', device=device)\n",
    "\n",
    "def ner(text):\n",
    "    output = ner_pipeline(text)\n",
    "    return {\"text\": text, \"entities\": output}    \n",
    "\n",
    "examples = [\n",
    "    [\"Moscow is the capital of Russia.\"],\n",
    "    [\"Major Tom happily lives in Houston and drinks Corona beer.\"],\n",
    "    [\"Borat Sagdiev is a famous journalist from Kazakhstan\"],\n",
    "    \n",
    "]\n",
    "demo = gr.Interface(ner,\n",
    "             gr.Textbox(placeholder=\"Enter sentence here...\"), \n",
    "             gr.HighlightedText(),\n",
    "             examples=examples)\n",
    "\n",
    "demo.launch(share=False)"
   ]
  },
  {
   "cell_type": "code",
   "execution_count": 5,
   "id": "ebcfe439-cb23-45ec-aa1e-26d40f1a0e71",
   "metadata": {
    "tags": []
   },
   "outputs": [
    {
     "name": "stdout",
     "output_type": "stream",
     "text": [
      "Closing server running on port: 7862\n"
     ]
    }
   ],
   "source": [
    "demo.close()\n",
    "# gr.close_all()"
   ]
  },
  {
   "cell_type": "markdown",
   "id": "14d2852c-9e51-4e70-a5a3-741775cfffe0",
   "metadata": {},
   "source": [
    "# More complex app with tabs and pictures"
   ]
  },
  {
   "cell_type": "code",
   "execution_count": 6,
   "id": "ee98d28d-aacc-456f-baf0-7b06113b0e72",
   "metadata": {
    "tags": []
   },
   "outputs": [
    {
     "name": "stdout",
     "output_type": "stream",
     "text": [
      "env: TOKENIZERS_PARALLELISM=false\n"
     ]
    }
   ],
   "source": [
    "# NLP components\n",
    "%env TOKENIZERS_PARALLELISM=false\n",
    "from transformers import pipeline\n",
    "\n",
    "pipe_en2es = pipeline(\"translation\", model=\"Helsinki-NLP/opus-mt-en-es\", device=device)\n",
    "\n",
    "def en2es(text):\n",
    "    return pipe_en2es(text)[0][\"translation_text\"]\n",
    "\n",
    "pipe_ner = pipeline(task=\"ner\", model='dbmdz/bert-large-cased-finetuned-conll03-english', device=device)\n",
    "\n",
    "def ner(text):\n",
    "    output = pipe_ner(text)\n",
    "    return {\"text\": text, \"entities\": output} "
   ]
  },
  {
   "cell_type": "code",
   "execution_count": 7,
   "id": "2ba25c19-4586-444c-ab03-51de9e2ee9f4",
   "metadata": {
    "tags": []
   },
   "outputs": [],
   "source": [
    "# IMAGE COMPONENTS\n",
    "\n",
    "import torchvision.transforms as T\n",
    "from torchvision.models.detection import fasterrcnn_mobilenet_v3_large_fpn, FasterRCNN_MobileNet_V3_Large_FPN_Weights\n",
    "\n",
    "from PIL import Image, ImageDraw, ImageFont, UnidentifiedImageError\n",
    "import requests\n",
    "import io\n",
    "\n",
    "from itertools import permutations\n",
    "colors = [*permutations((255, 0, 0)), *permutations((255, 128, 0)), *permutations((255, 128, 128))]\n",
    "\n",
    "COCO_CLASSES = [\n",
    "    \"__background__\", \"person\", \"bicycle\", \"car\", \"motorcycle\", \"airplane\", \"bus\",\n",
    "    \"train\", \"truck\", \"boat\", \"traffic light\", \"fire hydrant\", \"N/A\", \"stop sign\",\n",
    "    \"parking meter\", \"bench\", \"bird\", \"cat\", \"dog\", \"horse\", \"sheep\", \"cow\",\n",
    "    \"elephant\", \"bear\", \"zebra\", \"giraffe\", \"N/A\", \"backpack\", \"umbrella\", \"N/A\", \"N/A\",\n",
    "    \"handbag\", \"tie\", \"suitcase\", \"frisbee\", \"skis\", \"snowboard\", \"sports ball\",\n",
    "    \"kite\", \"baseball bat\", \"baseball glove\", \"skateboard\", \"surfboard\", \"tennis racket\",\n",
    "    \"bottle\", \"N/A\", \"wine glass\", \"cup\", \"fork\", \"knife\", \"spoon\", \"bowl\",\n",
    "    \"banana\", \"apple\", \"sandwich\", \"orange\", \"broccoli\", \"carrot\", \"hot dog\", \"pizza\",\n",
    "    \"donut\", \"cake\", \"chair\", \"couch\", \"potted plant\", \"bed\", \"N/A\", \"dining table\",\n",
    "    \"N/A\", \"N/A\", \"toilet\", \"N/A\", \"tv\", \"laptop\", \"mouse\", \"remote\", \"keyboard\", \"cell phone\",\n",
    "    \"microwave\", \"oven\", \"toaster\", \"sink\", \"refrigerator\", \"N/A\", \"book\",\n",
    "    \"clock\", \"vase\", \"scissors\", \"teddy bear\", \"hair drier\", \"toothbrush\"\n",
    "]\n",
    "\n",
    "\n",
    "def img_from_url(url):\n",
    "    data = requests.get(url).content\n",
    "    return Image.open(io.BytesIO(data)).convert('RGB')\n",
    "\n",
    "\n",
    "def object_detection(img, threshold=0.5):\n",
    "    # Transform the image\n",
    "    transform = T.Compose([T.ToTensor()])\n",
    "    img_tensor = transform(img)\n",
    "    img_tensor = img_tensor.unsqueeze(0)\n",
    "\n",
    "    with torch.no_grad():\n",
    "        predictions = obj_detection_model(img_tensor.to(device))\n",
    "\n",
    "    boxes = predictions[0][\"boxes\"]\n",
    "    labels = predictions[0][\"labels\"]\n",
    "    scores = predictions[0][\"scores\"]\n",
    "\n",
    "    img_np = T.ToPILImage()(img_tensor.squeeze(0))\n",
    "    draw = ImageDraw.Draw(img_np)\n",
    "    font = ImageFont.truetype(\"RobotoCondensed-Bold.ttf\", 30)\n",
    "    # font = ImageFont.load_default()\n",
    "\n",
    "    for i in range(boxes.size(0)):\n",
    "        if scores[i] >= threshold:\n",
    "            box = boxes[i].tolist()\n",
    "            label = COCO_CLASSES[labels[i].item()]\n",
    "            # color = colors[labels[i].item() % len(colors)]\n",
    "            color = (128, 255, 0)\n",
    "\n",
    "            draw.rectangle(box, outline=color, width=2)\n",
    "            draw.text((box[0] + 5, box[1]), label, fill=color, font=font)\n",
    "    return img_np\n",
    "\n",
    "\n",
    "obj_detection_model = fasterrcnn_mobilenet_v3_large_fpn(weights=FasterRCNN_MobileNet_V3_Large_FPN_Weights.DEFAULT).to(device)\n",
    "obj_detection_model.eval();"
   ]
  },
  {
   "cell_type": "code",
   "execution_count": 8,
   "id": "896a5735-07af-4377-a700-b51afbffb74c",
   "metadata": {
    "tags": []
   },
   "outputs": [
    {
     "name": "stdout",
     "output_type": "stream",
     "text": [
      "Running on local URL:  http://127.0.0.1:7862\n",
      "\n",
      "To create a public link, set `share=True` in `launch()`.\n"
     ]
    },
    {
     "data": {
      "text/html": [
       "<div><iframe src=\"http://127.0.0.1:7862/\" width=\"100%\" height=\"500\" allow=\"autoplay; camera; microphone; clipboard-read; clipboard-write;\" frameborder=\"0\" allowfullscreen></iframe></div>"
      ],
      "text/plain": [
       "<IPython.core.display.HTML object>"
      ]
     },
     "metadata": {},
     "output_type": "display_data"
    },
    {
     "data": {
      "text/plain": []
     },
     "execution_count": 8,
     "metadata": {},
     "output_type": "execute_result"
    }
   ],
   "source": [
    "# MAIN\n",
    "\n",
    "with gr.Blocks() as demo:\n",
    "    gr.Markdown(\"Flip text or image files using this demo.\")\n",
    "    with gr.Tab(\"Image\"):\n",
    "        with gr.Row():\n",
    "            with gr.Column():\n",
    "                image_input = gr.Image()\n",
    "                url_input = gr.Textbox(value='https://loremflickr.com/720/720/people')\n",
    "                b0_url = gr.Button(\"from URL\") \n",
    "\n",
    "                with gr.Row():\n",
    "                    # b0_flip = gr.Button(\"Flip Image\")\n",
    "                    b0_det = gr.Button(\"detect\")\n",
    "\n",
    "                sli = gr.Slider(0, 1.0, value=0.5, step=0.1, label='threshold')\n",
    "                \n",
    "                gr.Markdown(\"## URL Examples\")\n",
    "                gr.Examples(\n",
    "                    [['https://loremflickr.com/720/720/fish'], \n",
    "                     ['https://loremflickr.com/720/720/cats'], \n",
    "                     ['https://loremflickr.com/720/720/children'], \n",
    "                     ['https://www.buildyouraquarium.com/wp-content/uploads/2020/02/types-of-clownfish.jpg']],\n",
    "                    [url_input,],\n",
    "                )\n",
    "                    \n",
    "            image_output = gr.Image(shape=())\n",
    "            \n",
    "\n",
    "    with gr.Tab(\"NLP\"):\n",
    "        text_input = gr.Textbox()\n",
    "        with gr.Row():\n",
    "            b1_upper = gr.Button(\"Uppercase\")\n",
    "            b1_lower = gr.Button(\"Lowercase\")\n",
    "            b1_flip = gr.Button(\"Flip\")\n",
    "            b1_en2es = gr.Button(\"En -> Es\")\n",
    "            b1_ner = gr.Button(\"NER\")\n",
    "        text_output = gr.HighlightedText()\n",
    "        gr.Markdown(\"## Text Examples\")\n",
    "        gr.Examples(\n",
    "            [['The cat named Bat sat on the mat in Islamabad.'],\n",
    "             ['Borat Sagdiev is a famous journalist from Kazakhstan.'],\n",
    "            ],\n",
    "            [text_input,],\n",
    "        )\n",
    "\n",
    "    def imgprn(img):\n",
    "        print(img.shape, type(img))\n",
    "        return img\n",
    "        \n",
    "    # b0_flip.click(lambda x: np.fliplr(x), inputs=image_input, outputs=[image_input, image_output])\n",
    "    b0_url.click(img_from_url, inputs=url_input, outputs=image_input)\n",
    "    b0_det.click(object_detection, inputs=[image_input, sli], outputs=image_output)\n",
    "\n",
    "    b1_upper.click(lambda x: x.upper(), inputs=text_input, outputs=text_output)\n",
    "    b1_lower.click(lambda x: x.lower(), inputs=text_input, outputs=text_output)\n",
    "    b1_flip.click(lambda x: x[::-1], inputs=text_input, outputs=text_output)\n",
    "    b1_flip.click(imgprn, inputs=text_input, outputs=text_output)\n",
    "    b1_en2es.click(en2es, inputs=text_input, outputs=text_output)\n",
    "    b1_ner.click(ner, inputs=text_input, outputs=text_output)\n",
    "\n",
    "    \n",
    "demo.launch(share=False)"
   ]
  },
  {
   "cell_type": "code",
   "execution_count": 9,
   "id": "a37f09ed-94fe-4b3c-b2af-2c60e80bdd17",
   "metadata": {
    "tags": []
   },
   "outputs": [
    {
     "name": "stdout",
     "output_type": "stream",
     "text": [
      "Closing server running on port: 7862\n"
     ]
    }
   ],
   "source": [
    "demo.close()"
   ]
  },
  {
   "cell_type": "markdown",
   "id": "e904ecb8-6614-4de2-8b2e-ac8c5b79a21b",
   "metadata": {},
   "source": [
    "# using Gradio projects from Huggingface Spaces"
   ]
  },
  {
   "cell_type": "markdown",
   "id": "41fec5f3-91c1-47e6-943d-a43b0352b666",
   "metadata": {},
   "source": [
    "https://huggingface.co/spaces/savasy/Multilingual-Zero-Shot-Sentiment-Classification"
   ]
  },
  {
   "cell_type": "code",
   "execution_count": 10,
   "id": "78b013e0-f403-47cc-8b04-e66685cbe747",
   "metadata": {},
   "outputs": [
    {
     "name": "stdout",
     "output_type": "stream",
     "text": [
      "Fetching Space from: https://huggingface.co/spaces/savasy/Multilingual-Zero-Shot-Sentiment-Classification\n"
     ]
    },
    {
     "name": "stderr",
     "output_type": "stream",
     "text": [
      "/home/optimus/conda/envs/py9/lib/python3.9/site-packages/gradio/deprecation.py:43: UserWarning: You have unused kwarg parameters in Label, please remove them: {'selectable': False}\n",
      "  warnings.warn(\n"
     ]
    },
    {
     "name": "stdout",
     "output_type": "stream",
     "text": [
      "Running on local URL:  http://127.0.0.1:7862\n",
      "\n",
      "To create a public link, set `share=True` in `launch()`.\n"
     ]
    },
    {
     "data": {
      "text/html": [
       "<div><iframe src=\"http://127.0.0.1:7862/\" width=\"100%\" height=\"500\" allow=\"autoplay; camera; microphone; clipboard-read; clipboard-write;\" frameborder=\"0\" allowfullscreen></iframe></div>"
      ],
      "text/plain": [
       "<IPython.core.display.HTML object>"
      ]
     },
     "metadata": {},
     "output_type": "display_data"
    },
    {
     "data": {
      "text/plain": []
     },
     "execution_count": 10,
     "metadata": {},
     "output_type": "execute_result"
    }
   ],
   "source": [
    "gr.Interface.load(\"spaces/savasy/Multilingual-Zero-Shot-Sentiment-Classification\").launch()"
   ]
  },
  {
   "cell_type": "code",
   "execution_count": 11,
   "id": "ebccab84-d889-4aef-8749-c06ee7489e4a",
   "metadata": {
    "tags": []
   },
   "outputs": [
    {
     "name": "stdout",
     "output_type": "stream",
     "text": [
      "Closing server running on port: 7862\n",
      "Closing server running on port: 7862\n"
     ]
    }
   ],
   "source": [
    "gr.close_all()"
   ]
  },
  {
   "cell_type": "markdown",
   "id": "91893589-fb7e-4363-b398-210457b91314",
   "metadata": {},
   "source": [
    "# Interactive Sine curve"
   ]
  },
  {
   "cell_type": "code",
   "execution_count": 14,
   "id": "0220ba2d-a638-481e-8ccd-1a5c3a556232",
   "metadata": {
    "tags": []
   },
   "outputs": [
    {
     "name": "stdout",
     "output_type": "stream",
     "text": [
      "Running on local URL:  http://127.0.0.1:7863\n",
      "\n",
      "To create a public link, set `share=True` in `launch()`.\n"
     ]
    },
    {
     "data": {
      "text/html": [
       "<div><iframe src=\"http://127.0.0.1:7863/\" width=\"100%\" height=\"500\" allow=\"autoplay; camera; microphone; clipboard-read; clipboard-write;\" frameborder=\"0\" allowfullscreen></iframe></div>"
      ],
      "text/plain": [
       "<IPython.core.display.HTML object>"
      ]
     },
     "metadata": {},
     "output_type": "display_data"
    },
    {
     "data": {
      "text/plain": []
     },
     "execution_count": 14,
     "metadata": {},
     "output_type": "execute_result"
    }
   ],
   "source": [
    "import gradio as gr\n",
    "import numpy as np\n",
    "import matplotlib.pyplot as plt\n",
    "\n",
    "def plot_sine_curve(amplitude, frequency, phase, offset):\n",
    "    x = np.linspace(0, 2 * np.pi, 100)\n",
    "    y = amplitude * np.sin(frequency * x + phase) + offset\n",
    "\n",
    "    plt.plot(x, y)\n",
    "    plt.xlim(0, 2 * np.pi)\n",
    "    plt.ylim(-10, 10)\n",
    "    plt.xlabel('x')\n",
    "    plt.ylabel('y')\n",
    "    plt.title('Sine Curve')\n",
    "    plt.grid()\n",
    "\n",
    "    plt.savefig(\"sine_curve.png\")\n",
    "    plt.close()\n",
    "    return \"sine_curve.png\"\n",
    "\n",
    "demo = gr.Interface(\n",
    "    fn=plot_sine_curve,\n",
    "    inputs=[\n",
    "        gr.components.Slider(minimum=0, maximum=10, step=0.1, value=1, label=\"Amplitude\"),\n",
    "        gr.components.Slider(minimum=0, maximum=10, step=0.1, value=1, label=\"Frequency\"),\n",
    "        gr.components.Slider(minimum=0, maximum=2 * np.pi, step=0.1, value=0, label=\"Phase\"),\n",
    "        gr.components.Slider(minimum=-10, maximum=10, step=0.1, value=0, label=\"Offset\"),\n",
    "    ],\n",
    "    outputs=gr.components.Image(type=\"pil\", label=\"Sine Curve\"),\n",
    "    title=\"Sine Curve Plotter\",\n",
    "    description=\"Adjust the sine curve parameters using sliders and see the output plot.\",\n",
    "    live=True,  # << this parameter makes the app instantly reactive\n",
    ")\n",
    "\n",
    "demo.launch()"
   ]
  },
  {
   "cell_type": "markdown",
   "id": "4d24c89a-c60d-4100-8288-0197195fb72b",
   "metadata": {
    "tags": []
   },
   "source": [
    "### API call"
   ]
  },
  {
   "cell_type": "code",
   "execution_count": 22,
   "id": "e5ad54a1-68fe-4388-b433-56522b799acf",
   "metadata": {
    "tags": []
   },
   "outputs": [],
   "source": [
    "import requests\n",
    "\n",
    "response = requests.post(\"http://127.0.0.1:7863/run/predict\", json={\n",
    "\t\"data\": [\n",
    "\t\t3,\n",
    "\t\t9,\n",
    "\t\t1,\n",
    "\t\t0,\n",
    "\t]\n",
    "}).json()\n",
    "\n",
    "data = response[\"data\"]"
   ]
  },
  {
   "cell_type": "code",
   "execution_count": 23,
   "id": "fe929452-c1d1-4775-8eb1-ad60e0e60645",
   "metadata": {
    "tags": []
   },
   "outputs": [
    {
     "data": {
      "image/png": "[encoded data removed]",
      "text/plain": [
       "<PIL.PngImagePlugin.PngImageFile image mode=RGBA size=640x480>"
      ]
     },
     "metadata": {},
     "output_type": "display_data"
    }
   ],
   "source": [
    "import base64\n",
    "from PIL import Image\n",
    "from io import BytesIO\n",
    "import IPython.display as display\n",
    "\n",
    "encoded_image = data[0].split(',')[1]\n",
    "image_data = base64.b64decode(encoded_image)\n",
    "image = Image.open(BytesIO(image_data))\n",
    "display.display(image)"
   ]
  },
  {
   "cell_type": "raw",
   "id": "c08e2452-375e-4696-b8e8-6ad0a1f433f7",
   "metadata": {
    "tags": []
   },
   "source": [
    "gr.close_all()"
   ]
  },
  {
   "cell_type": "code",
   "execution_count": 24,
   "id": "e12bf66b-f40f-4091-accf-73cc0158ffaf",
   "metadata": {
    "tags": []
   },
   "outputs": [
    {
     "name": "stdout",
     "output_type": "stream",
     "text": [
      "Closing server running on port: 7863\n"
     ]
    }
   ],
   "source": [
    "demo.close()"
   ]
  },
  {
   "cell_type": "markdown",
   "id": "0917455b-8475-41e0-945d-3d8b9fad4efd",
   "metadata": {},
   "source": [
    "# Sketching in Gradio\n",
    "https://huggingface.co/spaces/gradio/pictionary"
   ]
  },
  {
   "cell_type": "markdown",
   "id": "cfa63333-3651-46b7-a131-b967128c32fe",
   "metadata": {},
   "source": [
    "![gradio_pictionary](gradio_pictionary.png)"
   ]
  },
  {
   "cell_type": "markdown",
   "id": "69d948b4-4b76-48d0-bda6-5451871e7058",
   "metadata": {},
   "source": [
    "# Complex gradio project:\n",
    "web UI for Stable Diffusion from Automatic 1111 https://github.com/AUTOMATIC1111/stable-diffusion-webui"
   ]
  },
  {
   "cell_type": "markdown",
   "id": "e61aea46-62cb-487f-bbfa-d4bb057c07d6",
   "metadata": {},
   "source": [
    "![auto1111_screenshot](auto1111_screenshot.png)"
   ]
  },
  {
   "cell_type": "markdown",
   "id": "2ccc4ff0-fa63-4b67-83e2-15061a2017b8",
   "metadata": {},
   "source": [
    "# Mapping APP\n",
    "https://huggingface.co/spaces/gradio/map_airbnb"
   ]
  },
  {
   "cell_type": "markdown",
   "id": "de5e1ac7-da81-461a-a99e-5a5d84c8058f",
   "metadata": {
    "tags": []
   },
   "source": [
    "![mapping](mapping_app.png)"
   ]
  },
  {
   "cell_type": "markdown",
   "id": "7c40c9b6-63d3-41ec-868e-2ad673075aa8",
   "metadata": {},
   "source": [
    "# Other cool features of Gradio:\n",
    "  ### - Stateful web applications\n",
    "  ### - Integration with databases\n",
    "  ### - Plotting\n",
    "### - speech / video components\n",
    "### - styling with CSS"
   ]
  }
 ],
 "metadata": {
  "kernelspec": {
   "display_name": "Python 3 (ipykernel)",
   "language": "python",
   "name": "python3"
  },
  "language_info": {
   "codemirror_mode": {
    "name": "ipython",
    "version": 3
   },
   "file_extension": ".py",
   "mimetype": "text/x-python",
   "name": "python",
   "nbconvert_exporter": "python",
   "pygments_lexer": "ipython3",
   "version": "3.9.15"
  }
 },
 "nbformat": 4,
 "nbformat_minor": 5
}
